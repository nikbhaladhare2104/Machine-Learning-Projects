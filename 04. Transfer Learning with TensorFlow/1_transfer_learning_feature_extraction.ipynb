{
  "nbformat": 4,
  "nbformat_minor": 0,
  "metadata": {
    "colab": {
      "provenance": [],
      "gpuType": "T4"
    },
    "kernelspec": {
      "name": "python3",
      "display_name": "Python 3"
    },
    "language_info": {
      "name": "python"
    },
    "accelerator": "GPU"
  },
  "cells": [
    {
      "cell_type": "code",
      "source": [
        "# Import tensorflow\n",
        "import tensorflow as tf"
      ],
      "metadata": {
        "id": "vFWVUkPp6NV2"
      },
      "execution_count": 2,
      "outputs": []
    },
    {
      "cell_type": "code",
      "execution_count": 3,
      "metadata": {
        "id": "8_rWMw3311CQ",
        "colab": {
          "base_uri": "https://localhost:8080/"
        },
        "outputId": "3b77f87b-3e0e-41dc-cad2-fd81ca151049"
      },
      "outputs": [
        {
          "output_type": "execute_result",
          "data": {
            "text/plain": [
              "datetime.datetime(2023, 8, 20, 9, 15, 45, 557891)"
            ]
          },
          "metadata": {},
          "execution_count": 3
        }
      ],
      "source": [
        "# Add timestamp\n",
        "import datetime\n",
        "datetime.datetime.now()"
      ]
    },
    {
      "cell_type": "markdown",
      "source": [
        "Always check if you are using a GPU or not!!\n",
        "\n",
        "GPU grants u more computational power and your file will run faster"
      ],
      "metadata": {
        "id": "p_FasrdmF704"
      }
    },
    {
      "cell_type": "code",
      "source": [
        "!nvidia-smi"
      ],
      "metadata": {
        "colab": {
          "base_uri": "https://localhost:8080/"
        },
        "id": "e1L04LRUGQhl",
        "outputId": "2e5853c2-6b0f-4e2d-81f6-5b441fc0d739"
      },
      "execution_count": 4,
      "outputs": [
        {
          "output_type": "stream",
          "name": "stdout",
          "text": [
            "Sun Aug 20 09:15:45 2023       \n",
            "+-----------------------------------------------------------------------------+\n",
            "| NVIDIA-SMI 525.105.17   Driver Version: 525.105.17   CUDA Version: 12.0     |\n",
            "|-------------------------------+----------------------+----------------------+\n",
            "| GPU  Name        Persistence-M| Bus-Id        Disp.A | Volatile Uncorr. ECC |\n",
            "| Fan  Temp  Perf  Pwr:Usage/Cap|         Memory-Usage | GPU-Util  Compute M. |\n",
            "|                               |                      |               MIG M. |\n",
            "|===============================+======================+======================|\n",
            "|   0  Tesla T4            Off  | 00000000:00:04.0 Off |                    0 |\n",
            "| N/A   59C    P8    11W /  70W |      0MiB / 15360MiB |      0%      Default |\n",
            "|                               |                      |                  N/A |\n",
            "+-------------------------------+----------------------+----------------------+\n",
            "                                                                               \n",
            "+-----------------------------------------------------------------------------+\n",
            "| Processes:                                                                  |\n",
            "|  GPU   GI   CI        PID   Type   Process name                  GPU Memory |\n",
            "|        ID   ID                                                   Usage      |\n",
            "|=============================================================================|\n",
            "|  No running processes found                                                 |\n",
            "+-----------------------------------------------------------------------------+\n"
          ]
        }
      ]
    },
    {
      "cell_type": "markdown",
      "source": [
        "Tesla T4"
      ],
      "metadata": {
        "id": "TYRcMeseGmR7"
      }
    },
    {
      "cell_type": "markdown",
      "source": [
        "We can always change the runtime type\n",
        "Go to Runtime -> Change Runtime Type -> Hardware Accelerator and select \"GPU\"."
      ],
      "metadata": {
        "id": "0s0DRMo4GU5h"
      }
    },
    {
      "cell_type": "markdown",
      "source": [
        "#Downloading and becoming one with the data"
      ],
      "metadata": {
        "id": "0BnrcVc8Gpmw"
      }
    },
    {
      "cell_type": "code",
      "source": [
        "import zipfile\n",
        "\n",
        "#10% of data of 10_food_classes\n",
        "!wget https://storage.googleapis.com/ztm_tf_course/food_vision/10_food_classes_10_percent.zip\n"
      ],
      "metadata": {
        "colab": {
          "base_uri": "https://localhost:8080/"
        },
        "id": "z0G93oj3G5Cm",
        "outputId": "22ea3bf2-4ae6-4a74-e4a7-0053b62d1db6"
      },
      "execution_count": 5,
      "outputs": [
        {
          "output_type": "stream",
          "name": "stdout",
          "text": [
            "--2023-08-20 09:15:45--  https://storage.googleapis.com/ztm_tf_course/food_vision/10_food_classes_10_percent.zip\n",
            "Resolving storage.googleapis.com (storage.googleapis.com)... 142.250.128.128, 142.251.6.128, 172.217.212.128, ...\n",
            "Connecting to storage.googleapis.com (storage.googleapis.com)|142.250.128.128|:443... connected.\n",
            "HTTP request sent, awaiting response... 200 OK\n",
            "Length: 168546183 (161M) [application/zip]\n",
            "Saving to: ‘10_food_classes_10_percent.zip’\n",
            "\n",
            "10_food_classes_10_ 100%[===================>] 160.74M   298MB/s    in 0.5s    \n",
            "\n",
            "2023-08-20 09:15:46 (298 MB/s) - ‘10_food_classes_10_percent.zip’ saved [168546183/168546183]\n",
            "\n"
          ]
        }
      ]
    },
    {
      "cell_type": "code",
      "source": [
        "#Unzipping the downloaded file\n",
        "zip_ref = zipfile.ZipFile(\"10_food_classes_10_percent.zip\", \"r\")\n",
        "zip_ref.extractall()\n",
        "zip_ref.close()"
      ],
      "metadata": {
        "id": "g26dejSQHZE1"
      },
      "execution_count": 6,
      "outputs": []
    },
    {
      "cell_type": "markdown",
      "source": [
        "Importing helper_functions file to use all the functions we will reuire"
      ],
      "metadata": {
        "id": "eOKpo_cAI-Kk"
      }
    },
    {
      "cell_type": "code",
      "source": [
        "!wget https://raw.githubusercontent.com/nikbhaladhare2104/TensorFlow-Extraa/TensorFlow/helper_functions.py"
      ],
      "metadata": {
        "colab": {
          "base_uri": "https://localhost:8080/"
        },
        "id": "eDqhLp2xI4ap",
        "outputId": "19d63c7e-7309-42bc-f87f-e87cd1212a8d"
      },
      "execution_count": 7,
      "outputs": [
        {
          "output_type": "stream",
          "name": "stdout",
          "text": [
            "--2023-08-20 09:15:47--  https://raw.githubusercontent.com/nikbhaladhare2104/TensorFlow-Extraa/TensorFlow/helper_functions.py\n",
            "Resolving raw.githubusercontent.com (raw.githubusercontent.com)... 185.199.108.133, 185.199.111.133, 185.199.109.133, ...\n",
            "Connecting to raw.githubusercontent.com (raw.githubusercontent.com)|185.199.108.133|:443... connected.\n",
            "HTTP request sent, awaiting response... 200 OK\n",
            "Length: 15781 (15K) [text/plain]\n",
            "Saving to: ‘helper_functions.py’\n",
            "\n",
            "helper_functions.py 100%[===================>]  15.41K  --.-KB/s    in 0.001s  \n",
            "\n",
            "2023-08-20 09:15:47 (18.9 MB/s) - ‘helper_functions.py’ saved [15781/15781]\n",
            "\n"
          ]
        }
      ]
    },
    {
      "cell_type": "code",
      "source": [
        "from helper_functions import walk_through_dir"
      ],
      "metadata": {
        "id": "66_GcczKI8wG"
      },
      "execution_count": 8,
      "outputs": []
    },
    {
      "cell_type": "markdown",
      "source": [
        "Walk_through_dir prints how many directories and images are there in a dir."
      ],
      "metadata": {
        "id": "u3iMw-bP3bvH"
      }
    },
    {
      "cell_type": "code",
      "source": [
        "walk_through_dir(\"10_food_classes_10_percent\")"
      ],
      "metadata": {
        "colab": {
          "base_uri": "https://localhost:8080/"
        },
        "id": "75IHCJ67JQ3u",
        "outputId": "cd6cf726-7acb-4c35-8d6c-257a4cc6b3bf"
      },
      "execution_count": 9,
      "outputs": [
        {
          "output_type": "stream",
          "name": "stdout",
          "text": [
            "There are 2 directories and 0 images in '10_food_classes_10_percent'.\n",
            "There are 10 directories and 0 images in '10_food_classes_10_percent/train'.\n",
            "There are 0 directories and 75 images in '10_food_classes_10_percent/train/chicken_wings'.\n",
            "There are 0 directories and 75 images in '10_food_classes_10_percent/train/ice_cream'.\n",
            "There are 0 directories and 75 images in '10_food_classes_10_percent/train/sushi'.\n",
            "There are 0 directories and 75 images in '10_food_classes_10_percent/train/pizza'.\n",
            "There are 0 directories and 75 images in '10_food_classes_10_percent/train/steak'.\n",
            "There are 0 directories and 75 images in '10_food_classes_10_percent/train/fried_rice'.\n",
            "There are 0 directories and 75 images in '10_food_classes_10_percent/train/chicken_curry'.\n",
            "There are 0 directories and 75 images in '10_food_classes_10_percent/train/ramen'.\n",
            "There are 0 directories and 75 images in '10_food_classes_10_percent/train/grilled_salmon'.\n",
            "There are 0 directories and 75 images in '10_food_classes_10_percent/train/hamburger'.\n",
            "There are 10 directories and 0 images in '10_food_classes_10_percent/test'.\n",
            "There are 0 directories and 250 images in '10_food_classes_10_percent/test/chicken_wings'.\n",
            "There are 0 directories and 250 images in '10_food_classes_10_percent/test/ice_cream'.\n",
            "There are 0 directories and 250 images in '10_food_classes_10_percent/test/sushi'.\n",
            "There are 0 directories and 250 images in '10_food_classes_10_percent/test/pizza'.\n",
            "There are 0 directories and 250 images in '10_food_classes_10_percent/test/steak'.\n",
            "There are 0 directories and 250 images in '10_food_classes_10_percent/test/fried_rice'.\n",
            "There are 0 directories and 250 images in '10_food_classes_10_percent/test/chicken_curry'.\n",
            "There are 0 directories and 250 images in '10_food_classes_10_percent/test/ramen'.\n",
            "There are 0 directories and 250 images in '10_food_classes_10_percent/test/grilled_salmon'.\n",
            "There are 0 directories and 250 images in '10_food_classes_10_percent/test/hamburger'.\n"
          ]
        }
      ]
    },
    {
      "cell_type": "markdown",
      "source": [
        "## Creating data loaders (preparing the data)"
      ],
      "metadata": {
        "id": "RlWCnV3iJZdg"
      }
    },
    {
      "cell_type": "markdown",
      "source": [
        "To make our images of size (224, 224) and of values between 0 and 1"
      ],
      "metadata": {
        "id": "FKZeqLAM5BU7"
      }
    },
    {
      "cell_type": "code",
      "source": [
        "# Input Data setup\n",
        "from tensorflow.keras.preprocessing.image import ImageDataGenerator\n",
        "\n",
        "train_dir = \"10_food_classes_10_percent/train/\"\n",
        "test_dir = \"10_food_classes_10_percent/test/\"\n",
        "\n",
        "IMAGE_SHAPE = (224, 224)\n",
        "BATCH_SIZE = 32\n",
        "\n",
        "train_data_gen = ImageDataGenerator(rescale = 1/255.)\n",
        "test_data_gen = ImageDataGenerator(rescale = 1/255.)"
      ],
      "metadata": {
        "id": "nM2IfjbL5NBE"
      },
      "execution_count": 10,
      "outputs": []
    },
    {
      "cell_type": "code",
      "source": [
        "print(\"Train:\")\n",
        "train_data_10_percent = train_data_gen.flow_from_directory(train_dir,\n",
        "                                                           target_size = IMAGE_SHAPE,\n",
        "                                                           batch_size = BATCH_SIZE,\n",
        "                                                           class_mode = \"categorical\")\n"
      ],
      "metadata": {
        "colab": {
          "base_uri": "https://localhost:8080/"
        },
        "id": "NjBG-EYc6J87",
        "outputId": "11355155-26ed-4815-9833-dcaf7f2355fd"
      },
      "execution_count": 11,
      "outputs": [
        {
          "output_type": "stream",
          "name": "stdout",
          "text": [
            "Train:\n",
            "Found 750 images belonging to 10 classes.\n"
          ]
        }
      ]
    },
    {
      "cell_type": "code",
      "source": [
        "print(\"Test:\")\n",
        "test_data_10_percent = test_data_gen.flow_from_directory(test_dir,\n",
        "                                                         target_size = IMAGE_SHAPE,\n",
        "                                                         batch_size = BATCH_SIZE,\n",
        "                                                         class_mode = \"categorical\")"
      ],
      "metadata": {
        "colab": {
          "base_uri": "https://localhost:8080/"
        },
        "id": "ulxDrrb274YY",
        "outputId": "f705f36d-ed1c-42f6-f106-f3ef8f370e77"
      },
      "execution_count": 12,
      "outputs": [
        {
          "output_type": "stream",
          "name": "stdout",
          "text": [
            "Test:\n",
            "Found 2500 images belonging to 10 classes.\n"
          ]
        }
      ]
    },
    {
      "cell_type": "markdown",
      "source": [
        "#Setting up callbacks (things to run whilst our model trains)"
      ],
      "metadata": {
        "id": "zN0tQ8zi8Uzs"
      }
    },
    {
      "cell_type": "markdown",
      "source": [
        "[Callback](https://www.tensorflow.org/api_docs/python/tf/keras/callbacks) are extra functionality you can add to your models to be performed during or after training."
      ],
      "metadata": {
        "id": "BlSziATi8m9q"
      }
    },
    {
      "cell_type": "code",
      "source": [
        "# Create tensorboard callback\n",
        "# import datetime\n",
        "# def create_tensorboard_callback(dir_name, experiment_name):\n",
        "#   log_dir = dir_name + \"/\" + experiment_name + \"/\" + datetime.datetime.now().strftime(\"%Y%m%d-%H%M%S\")\n",
        "#   tensorboard_callback = tf.keras.callbacks.TensorBoard(\n",
        "#       log_dir=log_dir\n",
        "#   )\n",
        "#   print(f\"Saving TensorBoard log files to: {log_dir}\")\n",
        "#   return tensorboard_callback"
      ],
      "metadata": {
        "id": "K_4Fvlpw9Wsx"
      },
      "execution_count": 13,
      "outputs": []
    },
    {
      "cell_type": "markdown",
      "source": [
        "We already have tensorboard_callback function in our helper_functions, We dont need above but can also use"
      ],
      "metadata": {
        "id": "Ie0nfnXo9ZLz"
      }
    },
    {
      "cell_type": "code",
      "source": [
        "from helper_functions import create_tensorboard_callback"
      ],
      "metadata": {
        "id": "tgnADwt39mkK"
      },
      "execution_count": 14,
      "outputs": []
    },
    {
      "cell_type": "markdown",
      "source": [
        "#Creating models using TensorFlow Hub"
      ],
      "metadata": {
        "id": "MHG9rNb09s_p"
      }
    },
    {
      "cell_type": "markdown",
      "source": [
        "We're going to use two models from TensorFlow Hub:\n",
        "\n",
        "1. [ResNetV2](https://arxiv.org/abs/1603.05027) - a state of the art computer vision model architecture from 2016.\n",
        "2. [EfficientNet](https://arxiv.org/abs/1905.11946) - a state of the art computer vision architecture from 2019."
      ],
      "metadata": {
        "id": "qtymT-JT969t"
      }
    },
    {
      "cell_type": "markdown",
      "source": [
        "We will compare both these models and determine which one performs best on our datasets"
      ],
      "metadata": {
        "id": "Vs8D06doDKY0"
      }
    },
    {
      "cell_type": "code",
      "source": [
        "import tensorflow as tf\n",
        "import tensorflow_hub as hub\n",
        "from tensorflow.keras import layers"
      ],
      "metadata": {
        "id": "6UVMo2OCDRfl"
      },
      "execution_count": 15,
      "outputs": []
    },
    {
      "cell_type": "code",
      "source": [
        "tf.__version__"
      ],
      "metadata": {
        "colab": {
          "base_uri": "https://localhost:8080/",
          "height": 35
        },
        "id": "NxmlmpywDzJ4",
        "outputId": "e12f97bf-c4eb-4c37-d1bb-1c59f6ad1b2f"
      },
      "execution_count": 16,
      "outputs": [
        {
          "output_type": "execute_result",
          "data": {
            "text/plain": [
              "'2.12.0'"
            ],
            "application/vnd.google.colaboratory.intrinsic+json": {
              "type": "string"
            }
          },
          "metadata": {},
          "execution_count": 16
        }
      ]
    },
    {
      "cell_type": "code",
      "source": [
        "# EfficientNetB0\n",
        "efficientnet_url = \"https://tfhub.dev/tensorflow/efficientnet/b0/feature-vector/1\"\n",
        "\n",
        "# ResNet 50 V2\n",
        "resnet_url = \"https://tfhub.dev/google/imagenet/resnet_v2_50/feature_vector/5\""
      ],
      "metadata": {
        "id": "8J7Lf6LAEYN_"
      },
      "execution_count": 17,
      "outputs": []
    },
    {
      "cell_type": "markdown",
      "source": [
        "Lets Create a function which will crate models"
      ],
      "metadata": {
        "id": "jijlpuSGFho-"
      }
    },
    {
      "cell_type": "code",
      "source": [
        "def create_model(model_url, num_classes= 10):\n",
        "  \"\"\"Takes a TensorFlow Hub URL and creates a Keras Sequential model with it.\n",
        "\n",
        "  Args:\n",
        "    model_url (str): A TensorFlow Hub feature extraction URL.\n",
        "    num_classes (int): Number of output neurons in output layer,\n",
        "      should be equal to number of target classes, default 10.\n",
        "\n",
        "  Returns:\n",
        "    An uncompiled Keras Sequential model with model_url as feature\n",
        "    extractor layer and Dense output layer with num_classes outputs.\n",
        "  \"\"\"\n",
        "\n",
        "  # Download the pretrained model and save it as a Keras layer\n",
        "  # pre_trained_layer consists input and feature extractor layers\n",
        "  pre_trained_layer = hub.KerasLayer(model_url,\n",
        "                                     trainable=False, # Non-trainable , Freezed layers\n",
        "                                     name = \"Pre_trained_layer\",\n",
        "                                     input_shape = IMAGE_SHAPE + (3,))\n",
        "\n",
        "  # Creating the model\n",
        "  model = tf.keras.Sequential([\n",
        "      pre_trained_layer,\n",
        "      layers.Dense(num_classes, activation=\"softmax\", name=\"Output_layer\") # Our own output layer\n",
        "  ])\n",
        "\n",
        "  return model\n"
      ],
      "metadata": {
        "id": "k6COZAFaGafF"
      },
      "execution_count": 24,
      "outputs": []
    },
    {
      "cell_type": "code",
      "source": [
        "# create the moddel - ResNet\n",
        "resnet_model = create_model(resnet_url, num_classes= train_data_10_percent.num_classes)"
      ],
      "metadata": {
        "id": "2sMeKkx_IfAy"
      },
      "execution_count": 25,
      "outputs": []
    },
    {
      "cell_type": "code",
      "source": [
        "# compile the model\n",
        "resnet_model.compile(loss=tf.keras.losses.categorical_crossentropy,\n",
        "                     optimizer= tf.keras.optimizers.Adam(),\n",
        "                     metrics=[\"accuracy\"])"
      ],
      "metadata": {
        "id": "uPNQy-nMPPDG"
      },
      "execution_count": 26,
      "outputs": []
    },
    {
      "cell_type": "code",
      "source": [
        "# Fit the model\n",
        "resnet_history = resnet_model.fit(train_data_10_percent,\n",
        "                                  epochs=5,\n",
        "                                  steps_per_epoch=len(train_data_10_percent),\n",
        "                                  validation_data=test_data_10_percent,\n",
        "                                  validation_steps=len(test_data_10_percent),\n",
        "                                  # Add TensorBoard callback to model (callbacks parameter takes a list)\n",
        "                                  callbacks=[create_tensorboard_callback(dir_name=\"tensorflow_hub\",\n",
        "                                                                         experiment_name=\"ResNet50V2\")])\n"
      ],
      "metadata": {
        "colab": {
          "base_uri": "https://localhost:8080/"
        },
        "id": "zwbzGo9VPw9r",
        "outputId": "965850c8-aeeb-4a9f-e1ec-186e0eecca57"
      },
      "execution_count": 27,
      "outputs": [
        {
          "output_type": "stream",
          "name": "stdout",
          "text": [
            "Saving TensorBoard log files to: tensorflow_hub/ResNet50V2/20230820-092757\n",
            "Epoch 1/5\n",
            "24/24 [==============================] - 30s 663ms/step - loss: 1.8719 - accuracy: 0.3680 - val_loss: 1.1785 - val_accuracy: 0.6320\n",
            "Epoch 2/5\n",
            "24/24 [==============================] - 11s 485ms/step - loss: 0.8657 - accuracy: 0.7373 - val_loss: 0.8475 - val_accuracy: 0.7304\n",
            "Epoch 3/5\n",
            "24/24 [==============================] - 11s 470ms/step - loss: 0.6010 - accuracy: 0.8440 - val_loss: 0.7486 - val_accuracy: 0.7624\n",
            "Epoch 4/5\n",
            "24/24 [==============================] - 11s 471ms/step - loss: 0.4565 - accuracy: 0.8933 - val_loss: 0.7007 - val_accuracy: 0.7704\n",
            "Epoch 5/5\n",
            "24/24 [==============================] - 14s 597ms/step - loss: 0.3709 - accuracy: 0.9213 - val_loss: 0.6819 - val_accuracy: 0.7736\n"
          ]
        }
      ]
    },
    {
      "cell_type": "markdown",
      "source": [
        "Woah!!!"
      ],
      "metadata": {
        "id": "AoOPJQcCR2D9"
      }
    },
    {
      "cell_type": "markdown",
      "source": [
        "It seems that after only 5 epochs, the ResNetV250 feature extraction model was able to blow any of the architectures we made out of the water, achieving around 90% accuracy on the training set and nearly 80% accuracy on the test set...with only 10 percent of the training images!"
      ],
      "metadata": {
        "id": "XGRsG0ljRcTR"
      }
    },
    {
      "cell_type": "markdown",
      "source": [
        "Let's check out our model's training curves using our plot_loss_curves function.\n",
        "\n"
      ],
      "metadata": {
        "id": "37HgA0MRR37B"
      }
    },
    {
      "cell_type": "code",
      "source": [
        "from helper_functions import plot_loss_curves"
      ],
      "metadata": {
        "id": "9fVr3qstSAhL"
      },
      "execution_count": 28,
      "outputs": []
    },
    {
      "cell_type": "code",
      "source": [
        "plot_loss_curves(resnet_history)"
      ],
      "metadata": {
        "colab": {
          "base_uri": "https://localhost:8080/",
          "height": 927
        },
        "id": "7Fbu3pwRSGE7",
        "outputId": "10a38640-bd7b-48d7-92e2-15bbd2e8a18b"
      },
      "execution_count": 29,
      "outputs": [
        {
          "output_type": "display_data",
          "data": {
            "text/plain": [
              "<Figure size 640x480 with 1 Axes>"
            ],
            "image/png": "[encoded data removed]"
          },
          "metadata": {}
        },
        {
          "output_type": "display_data",
          "data": {
            "text/plain": [
              "<Figure size 640x480 with 1 Axes>"
            ],
            "image/png": "[encoded data removed]"
          },
          "metadata": {}
        }
      ]
    },
    {
      "cell_type": "code",
      "source": [
        "#re.summary\n",
        "resnet_model.summary()"
      ],
      "metadata": {
        "colab": {
          "base_uri": "https://localhost:8080/"
        },
        "id": "P7RLhFDrSKjT",
        "outputId": "7719c2cc-3b93-4269-823d-2840c72641dc"
      },
      "execution_count": 30,
      "outputs": [
        {
          "output_type": "stream",
          "name": "stdout",
          "text": [
            "Model: \"sequential\"\n",
            "_________________________________________________________________\n",
            " Layer (type)                Output Shape              Param #   \n",
            "=================================================================\n",
            " Pre_trained_layer (KerasLay  (None, 2048)             23564800  \n",
            " er)                                                             \n",
            "                                                                 \n",
            " Output_layer (Dense)        (None, 10)                20490     \n",
            "                                                                 \n",
            "=================================================================\n",
            "Total params: 23,585,290\n",
            "Trainable params: 20,490\n",
            "Non-trainable params: 23,564,800\n",
            "_________________________________________________________________\n"
          ]
        }
      ]
    },
    {
      "cell_type": "markdown",
      "source": [
        "We have 23M params already trained.\n",
        "Only 20K params are trainable but we can change that by doing model trainable=True"
      ],
      "metadata": {
        "id": "D94kq3wHST3j"
      }
    },
    {
      "cell_type": "markdown",
      "source": [
        "Now doing the same thing with efficientnetB0"
      ],
      "metadata": {
        "id": "N6SJcNDnS4zs"
      }
    },
    {
      "cell_type": "code",
      "source": [
        "# Create the model\n",
        "efficientnet_model = create_model(efficientnet_url, num_classes=train_data_10_percent.num_classes)"
      ],
      "metadata": {
        "id": "ZXeLZxkKTC_D"
      },
      "execution_count": 31,
      "outputs": []
    },
    {
      "cell_type": "code",
      "source": [
        "# compile the model\n",
        "efficientnet_model.compile(loss=tf.keras.losses.categorical_crossentropy,\n",
        "                           optimizer=tf.keras.optimizers.Adam(),\n",
        "                           metrics=[\"accuracy\"])"
      ],
      "metadata": {
        "id": "deXFOZPUTYX8"
      },
      "execution_count": 32,
      "outputs": []
    },
    {
      "cell_type": "code",
      "source": [
        "# fit the model\n",
        "efficientnet_history = efficientnet_model.fit(train_data_10_percent,\n",
        "                                              epochs=5,\n",
        "                                              steps_per_epoch=len(train_data_10_percent),\n",
        "                                              validation_data=test_data_10_percent,\n",
        "                                              validation_steps=len(test_data_10_percent),\n",
        "                                              callbacks=create_tensorboard_callback(dir_name=\"tensorflow_hub\",\n",
        "                                                                                    experiment_name=\"EfficientnetB0\"))"
      ],
      "metadata": {
        "colab": {
          "base_uri": "https://localhost:8080/"
        },
        "id": "6SEugTbNTpUK",
        "outputId": "bc6bf7ec-c178-4cf9-a119-c288d2f329b9"
      },
      "execution_count": 34,
      "outputs": [
        {
          "output_type": "stream",
          "name": "stdout",
          "text": [
            "Saving TensorBoard log files to: tensorflow_hub/EfficientnetB0/20230820-094208\n",
            "Epoch 1/5\n",
            "24/24 [==============================] - 25s 552ms/step - loss: 1.8474 - accuracy: 0.4480 - val_loss: 1.2805 - val_accuracy: 0.7260\n",
            "Epoch 2/5\n",
            "24/24 [==============================] - 12s 507ms/step - loss: 1.0547 - accuracy: 0.7733 - val_loss: 0.8602 - val_accuracy: 0.8192\n",
            "Epoch 3/5\n",
            "24/24 [==============================] - 14s 596ms/step - loss: 0.7563 - accuracy: 0.8333 - val_loss: 0.6909 - val_accuracy: 0.8452\n",
            "Epoch 4/5\n",
            "24/24 [==============================] - 13s 569ms/step - loss: 0.6048 - accuracy: 0.8773 - val_loss: 0.6075 - val_accuracy: 0.8600\n",
            "Epoch 5/5\n",
            "24/24 [==============================] - 23s 988ms/step - loss: 0.5156 - accuracy: 0.8960 - val_loss: 0.5546 - val_accuracy: 0.8620\n"
          ]
        }
      ]
    },
    {
      "cell_type": "markdown",
      "source": [
        "The EfficientNetB0 model does even better than the ResNetV250 model! Achieving over 85% accuracy on the test set...again with only 10% of the training data."
      ],
      "metadata": {
        "id": "cOJoWo4oUqan"
      }
    },
    {
      "cell_type": "markdown",
      "source": [
        "Checking Loss_curves"
      ],
      "metadata": {
        "id": "-oSAEp3_UzrW"
      }
    },
    {
      "cell_type": "code",
      "source": [
        "plot_loss_curves(efficientnet_history)"
      ],
      "metadata": {
        "colab": {
          "base_uri": "https://localhost:8080/",
          "height": 927
        },
        "id": "HDauZUpbU6q7",
        "outputId": "6df71bd0-43b7-472c-e7c2-010e5e2f0a54"
      },
      "execution_count": 35,
      "outputs": [
        {
          "output_type": "display_data",
          "data": {
            "text/plain": [
              "<Figure size 640x480 with 1 Axes>"
            ],
            "image/png": "[encoded data removed]"
          },
          "metadata": {}
        },
        {
          "output_type": "display_data",
          "data": {
            "text/plain": [
              "<Figure size 640x480 with 1 Axes>"
            ],
            "image/png": "[encoded data removed]"
          },
          "metadata": {}
        }
      ]
    },
    {
      "cell_type": "markdown",
      "source": [
        "From the look of the EfficientNetB0 model's loss curves, it looks like if we kept training our model for longer, it might improve even further.\n",
        "\n",
        "Maybe for 10 epoch..."
      ],
      "metadata": {
        "id": "fkmI1MWxVNdU"
      }
    },
    {
      "cell_type": "code",
      "source": [
        "# summary\n",
        "efficientnet_model.summary()"
      ],
      "metadata": {
        "colab": {
          "base_uri": "https://localhost:8080/"
        },
        "id": "yB6El7WjVXwi",
        "outputId": "eaff7220-ceb0-4364-8932-323274aeef91"
      },
      "execution_count": 36,
      "outputs": [
        {
          "output_type": "stream",
          "name": "stdout",
          "text": [
            "Model: \"sequential_1\"\n",
            "_________________________________________________________________\n",
            " Layer (type)                Output Shape              Param #   \n",
            "=================================================================\n",
            " Pre_trained_layer (KerasLay  (None, 1280)             4049564   \n",
            " er)                                                             \n",
            "                                                                 \n",
            " Output_layer (Dense)        (None, 10)                12810     \n",
            "                                                                 \n",
            "=================================================================\n",
            "Total params: 4,062,374\n",
            "Trainable params: 12,810\n",
            "Non-trainable params: 4,049,564\n",
            "_________________________________________________________________\n"
          ]
        }
      ]
    },
    {
      "cell_type": "markdown",
      "source": [
        "It seems despite having over four times less parameters (4,049,564 vs. 23,564,800) than the ResNet50V2 extraction layer, the EfficientNetB0 feature extraction layer yields better performance."
      ],
      "metadata": {
        "id": "O_jq72V1VfPD"
      }
    },
    {
      "cell_type": "markdown",
      "source": [
        "#Comparing models using TensorBoard"
      ],
      "metadata": {
        "id": "tqiaWV-QVlzS"
      }
    },
    {
      "cell_type": "markdown",
      "source": [
        "\n",
        "\n",
        "##Uploading experiments to TensorBoard"
      ],
      "metadata": {
        "id": "8UMmZhGTV3Yo"
      }
    },
    {
      "cell_type": "markdown",
      "source": [
        "To upload a series of TensorFlow logs to TensorBoard, we can use the following command:\n",
        "\n",
        "  *Upload TensorBoard dev records:*\n",
        "```\n",
        "  !tensorboard dev upload --logdir ./tensorflow_hub/ \\\n",
        "    --name \"EfficientNetB0 vs. ResNet50V2\" \\\n",
        "    --description \"Comparing two different TF Hub feature extraction models architectures using 10% of training images\" \\\n",
        "    --one_shot\n",
        "```\n",
        "Where:\n",
        "\n",
        "* **--logdir** is the target upload directory\n",
        "* **--name** is the name of the experiment\n",
        "* **--description** is a brief description of the experiment\n",
        "* **--one_shot** exits the TensorBoard uploader once uploading is finished\n"
      ],
      "metadata": {
        "id": "MPd-li9YV-QA"
      }
    },
    {
      "cell_type": "code",
      "source": [
        "# Uploading  TensorBoard dev records\n",
        "!tensorboard dev upload --logdir ./tensorflow_hub/ \\\n",
        "  --name \"EfficientNetB0 vs. ResNet50V2\" \\\n",
        "  --description \"Comparing two different TF Hub feature extraction models architectures using 10% of training images\" \\\n",
        "  --one_shot"
      ],
      "metadata": {
        "colab": {
          "base_uri": "https://localhost:8080/"
        },
        "id": "nmYNIQUcWF7L",
        "outputId": "e1ae2a8c-9213-4ce9-8797-9c86980c96c0"
      },
      "execution_count": 38,
      "outputs": [
        {
          "output_type": "stream",
          "name": "stdout",
          "text": [
            "2023-08-20 09:55:13.716591: W tensorflow/compiler/tf2tensorrt/utils/py_utils.cc:38] TF-TRT Warning: Could not find TensorRT\n",
            "\n",
            "***** TensorBoard Uploader *****\n",
            "\n",
            "This will upload your TensorBoard logs to https://tensorboard.dev/ from\n",
            "the following directory:\n",
            "\n",
            "./tensorflow_hub/\n",
            "\n",
            "This TensorBoard will be visible to everyone. Do not upload sensitive\n",
            "data.\n",
            "\n",
            "Your use of this service is subject to Google's Terms of Service\n",
            "<https://policies.google.com/terms> and Privacy Policy\n",
            "<https://policies.google.com/privacy>, and TensorBoard.dev's Terms of Service\n",
            "<https://tensorboard.dev/policy/terms/>.\n",
            "\n",
            "This notice will not be shown again while you are logged into the uploader.\n",
            "To log out, run `tensorboard dev auth revoke`.\n",
            "\n",
            "Continue? (yes/NO) yes\n",
            "\n",
            "To sign in with the TensorBoard uploader:\n",
            "\n",
            "1. On your computer or phone, visit:\n",
            "\n",
            "   https://www.google.com/device\n",
            "\n",
            "2. Sign in with your Google account, then enter:\n",
            "\n",
            "   MZDP-WGNF\n",
            "\n",
            "\n",
            "\n",
            "New experiment created. View your TensorBoard at: https://tensorboard.dev/experiment/7oWgJWbrRj2PUeyL6nKbiw/\n",
            "\n",
            "\u001b[1m[2023-08-20T09:56:15]\u001b[0m Started scanning logdir.\n",
            "\u001b[1m[2023-08-20T09:56:18]\u001b[0m Total uploaded: 60 scalars, 0 tensors, 2 binary objects (5.5 MB)\n",
            "\u001b[1m[2023-08-20T09:56:18]\u001b[0m Done scanning logdir.\n",
            "\n",
            "\n",
            "Done. View your TensorBoard at https://tensorboard.dev/experiment/7oWgJWbrRj2PUeyL6nKbiw/\n"
          ]
        }
      ]
    },
    {
      "cell_type": "code",
      "source": [
        "!tensorboard dev list"
      ],
      "metadata": {
        "colab": {
          "base_uri": "https://localhost:8080/"
        },
        "id": "uI60mExtXj_w",
        "outputId": "f1ce954b-44d4-4343-b39b-41c5e3ea451a"
      },
      "execution_count": 39,
      "outputs": [
        {
          "output_type": "stream",
          "name": "stdout",
          "text": [
            "2023-08-20 09:58:03.146271: W tensorflow/compiler/tf2tensorrt/utils/py_utils.cc:38] TF-TRT Warning: Could not find TensorRT\n",
            "https://tensorboard.dev/experiment/7oWgJWbrRj2PUeyL6nKbiw/\n",
            "\tName                 EfficientNetB0 vs. ResNet50V2\n",
            "\tDescription          Comparing two different TF Hub feature extraction models architectures using 10% of training images\n",
            "\tId                   7oWgJWbrRj2PUeyL6nKbiw\n",
            "\tCreated              2023-08-20 09:56:15 (1 minute ago)\n",
            "\tUpdated              2023-08-20 09:56:18 (1 minute ago)\n",
            "\tRuns                 4\n",
            "\tTags                 5\n",
            "\tScalars              60\n",
            "\tTensor bytes         0\n",
            "\tBinary object bytes  5793036\n",
            "Total: 1 experiment(s)\n"
          ]
        }
      ]
    },
    {
      "cell_type": "markdown",
      "source": [
        "##Deleting experiments from TensorBoard"
      ],
      "metadata": {
        "id": "90Ul2ERGYURB"
      }
    },
    {
      "cell_type": "code",
      "source": [
        "# Delete an experiment\n",
        "!tensorboard dev delete --experiment_id 7oWgJWbrRj2PUeyL6nKbiw"
      ],
      "metadata": {
        "colab": {
          "base_uri": "https://localhost:8080/"
        },
        "id": "xLHehN2NYfqC",
        "outputId": "5da5ecc8-5c0c-40d8-ede8-51e438ff4f6f"
      },
      "execution_count": 40,
      "outputs": [
        {
          "output_type": "stream",
          "name": "stdout",
          "text": [
            "2023-08-20 09:59:06.268498: W tensorflow/compiler/tf2tensorrt/utils/py_utils.cc:38] TF-TRT Warning: Could not find TensorRT\n",
            "Deleted experiment 7oWgJWbrRj2PUeyL6nKbiw.\n"
          ]
        }
      ]
    },
    {
      "cell_type": "code",
      "source": [
        "!tensorboard dev list # checking to see if the exp still exists or not"
      ],
      "metadata": {
        "colab": {
          "base_uri": "https://localhost:8080/"
        },
        "id": "1ayQ_JXEYj_t",
        "outputId": "8f540378-2457-49cb-d1d3-282a050e7ca5"
      },
      "execution_count": 41,
      "outputs": [
        {
          "output_type": "stream",
          "name": "stdout",
          "text": [
            "2023-08-20 09:59:21.815233: W tensorflow/compiler/tf2tensorrt/utils/py_utils.cc:38] TF-TRT Warning: Could not find TensorRT\n",
            "No experiments. Use `tensorboard dev upload` to get started.\n"
          ]
        }
      ]
    },
    {
      "cell_type": "markdown",
      "source": [
        "## Uploading experiments to TensorBoard Again"
      ],
      "metadata": {
        "id": "3XJkUfE1YnxA"
      }
    },
    {
      "cell_type": "code",
      "source": [
        "!tensorboard dev upload --logdir ./tensorflow_hub/ \\\n",
        "  --name \"EfficientNetB0 vs. ResNet50V2\" \\\n",
        "  --description \"Comparing two different TF Hub feature extraction models architectures using 10% of training images\" \\\n",
        "  --one_shot"
      ],
      "metadata": {
        "colab": {
          "base_uri": "https://localhost:8080/"
        },
        "id": "F0HJ9WBIY9bu",
        "outputId": "7a69df3a-d80b-4feb-8577-976055ae6f35"
      },
      "execution_count": 43,
      "outputs": [
        {
          "output_type": "stream",
          "name": "stdout",
          "text": [
            "2023-08-20 10:01:08.429141: W tensorflow/compiler/tf2tensorrt/utils/py_utils.cc:38] TF-TRT Warning: Could not find TensorRT\n",
            "\n",
            "New experiment created. View your TensorBoard at: https://tensorboard.dev/experiment/LAWQa5Q3S6GEO4FagGqajA/\n",
            "\n",
            "\u001b[1m[2023-08-20T10:01:10]\u001b[0m Started scanning logdir.\n",
            "\u001b[1m[2023-08-20T10:01:12]\u001b[0m Total uploaded: 60 scalars, 0 tensors, 2 binary objects (5.5 MB)\n",
            "\u001b[1m[2023-08-20T10:01:12]\u001b[0m Done scanning logdir.\n",
            "\n",
            "\n",
            "Done. View your TensorBoard at https://tensorboard.dev/experiment/LAWQa5Q3S6GEO4FagGqajA/\n"
          ]
        }
      ]
    },
    {
      "cell_type": "code",
      "source": [
        "!tensorboard dev list"
      ],
      "metadata": {
        "colab": {
          "base_uri": "https://localhost:8080/"
        },
        "id": "QU_gudURZBwB",
        "outputId": "5b85c382-331d-4d43-cf18-7cb7748336e0"
      },
      "execution_count": 44,
      "outputs": [
        {
          "output_type": "stream",
          "name": "stdout",
          "text": [
            "2023-08-20 10:02:14.777836: W tensorflow/compiler/tf2tensorrt/utils/py_utils.cc:38] TF-TRT Warning: Could not find TensorRT\n",
            "https://tensorboard.dev/experiment/LAWQa5Q3S6GEO4FagGqajA/\n",
            "\tName                 EfficientNetB0 vs. ResNet50V2\n",
            "\tDescription          Comparing two different TF Hub feature extraction models architectures using 10% of training images\n",
            "\tId                   LAWQa5Q3S6GEO4FagGqajA\n",
            "\tCreated              2023-08-20 10:01:10 (1 minute ago)\n",
            "\tUpdated              2023-08-20 10:01:12 (1 minute ago)\n",
            "\tRuns                 4\n",
            "\tTags                 5\n",
            "\tScalars              60\n",
            "\tTensor bytes         0\n",
            "\tBinary object bytes  5793036\n",
            "Total: 1 experiment(s)\n"
          ]
        }
      ]
    }
  ]
}