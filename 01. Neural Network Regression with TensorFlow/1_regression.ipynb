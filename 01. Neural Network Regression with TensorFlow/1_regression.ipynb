{
  "nbformat": 4,
  "nbformat_minor": 0,
  "metadata": {
    "colab": {
      "provenance": []
    },
    "kernelspec": {
      "name": "python3",
      "display_name": "Python 3"
    },
    "language_info": {
      "name": "python"
    }
  },
  "cells": [
    {
      "cell_type": "markdown",
      "source": [
        "In statistical modeling, regression analysis is a set of statistical processes for estimating the relationships between a dependent variable (often called the 'outcome' or 'response' variable, or a 'label' in machine learning parlance) and one or more independent variables (often called 'predictors', 'covariates', 'explanatory variables' or 'features')."
      ],
      "metadata": {
        "id": "NAsqes57hgyo"
      }
    },
    {
      "cell_type": "code",
      "source": [
        "import tensorflow as tf\n",
        "print(tf.__version__)\n",
        "\n",
        "import datetime\n",
        "print(f\"Notebook last run (end-to-end): {datetime.datetime.now()}\")"
      ],
      "metadata": {
        "colab": {
          "base_uri": "https://localhost:8080/"
        },
        "id": "s0Eo7H6liR5K",
        "outputId": "ffec431e-1cb1-4f87-fea0-14fdff8c0cf8"
      },
      "execution_count": 1,
      "outputs": [
        {
          "output_type": "stream",
          "name": "stdout",
          "text": [
            "2.12.0\n",
            "Notebook last run (end-to-end): 2023-07-26 10:46:05.177371\n"
          ]
        }
      ]
    },
    {
      "cell_type": "markdown",
      "source": [
        "## Creating data to view and fit\n",
        "\n",
        "Creating straight line data to predict (since we are building regression moodel)"
      ],
      "metadata": {
        "id": "ZOnNXyWLiiv6"
      }
    },
    {
      "cell_type": "code",
      "source": [
        "import numpy as np\n",
        "import matplotlib.pyplot as plt\n",
        "\n",
        "# Creating features\n",
        "X = np.array([float(i) for i in range(-7, 15, 3)])\n",
        "\n",
        "# Creating labels\n",
        "y = np.array(X+10)\n",
        "\n",
        "# Visualize\n",
        "plt.scatter(X, y)"
      ],
      "metadata": {
        "colab": {
          "base_uri": "https://localhost:8080/",
          "height": 453
        },
        "id": "hQeAe97SitSN",
        "outputId": "acfd522e-e455-44e3-eea3-e2a2cd5649dd"
      },
      "execution_count": 2,
      "outputs": [
        {
          "output_type": "execute_result",
          "data": {
            "text/plain": [
              "<matplotlib.collections.PathCollection at 0x796069431780>"
            ]
          },
          "metadata": {},
          "execution_count": 2
        },
        {
          "output_type": "display_data",
          "data": {
            "text/plain": [
              "<Figure size 640x480 with 1 Axes>"
            ],
            "image/png": "[encoded data removed]"
          },
          "metadata": {}
        }
      ]
    },
    {
      "cell_type": "markdown",
      "source": [
        "Above is our input and output data. We can always increase it to better our model."
      ],
      "metadata": {
        "id": "VNl8JLWOjJMR"
      }
    },
    {
      "cell_type": "markdown",
      "source": [
        "## Regression input shapes and output shapes\n",
        "\n",
        "The **input shape** is the shape of your data that goes into the model.\n",
        "\n",
        "The **output shape** is the shape of your data you want to come out of your model.\n",
        "\n",
        "Before, we created data using NumPy arrays, but we could do the same with tensors.\n",
        "\n"
      ],
      "metadata": {
        "id": "dT80fm5OlVpq"
      }
    },
    {
      "cell_type": "code",
      "source": [
        "# Example input and output shapes of a regression model\n",
        "house_info = tf.constant([\"bedroom\", \"bathroom\", \"garage\"])\n",
        "house_price = tf.constant([939700])\n",
        "house_info, house_price"
      ],
      "metadata": {
        "colab": {
          "base_uri": "https://localhost:8080/"
        },
        "id": "RTniEvSylZgl",
        "outputId": "fb1730f0-c695-4ff8-b8be-76afdfa1b8cd"
      },
      "execution_count": 3,
      "outputs": [
        {
          "output_type": "execute_result",
          "data": {
            "text/plain": [
              "(<tf.Tensor: shape=(3,), dtype=string, numpy=array([b'bedroom', b'bathroom', b'garage'], dtype=object)>,\n",
              " <tf.Tensor: shape=(1,), dtype=int32, numpy=array([939700], dtype=int32)>)"
            ]
          },
          "metadata": {},
          "execution_count": 3
        }
      ]
    },
    {
      "cell_type": "code",
      "source": [
        "house_info.shape\n"
      ],
      "metadata": {
        "colab": {
          "base_uri": "https://localhost:8080/"
        },
        "id": "XuFdOkixmx5X",
        "outputId": "902c1d1a-0be0-43cf-be34-22719cb2a280"
      },
      "execution_count": 4,
      "outputs": [
        {
          "output_type": "execute_result",
          "data": {
            "text/plain": [
              "TensorShape([3])"
            ]
          },
          "metadata": {},
          "execution_count": 4
        }
      ]
    },
    {
      "cell_type": "code",
      "source": [
        "import numpy as np\n",
        "import matplotlib.pyplot as plt\n",
        "\n",
        "# Create features (using tensors)\n",
        "X = tf.constant([float(i) for i in range(-7, 15,3)])\n",
        "# X = tf.constant([-7.0, -4.0, -1.0, 2.0, 5.0, 8.0, 11.0, 14.0])\n",
        "\n",
        "# Create labels (using tensors)\n",
        "y = tf.constant(X+10)\n",
        "# y = tf.constant([3.0, 6.0, 9.0, 12.0, 15.0, 18.0, 21.0, 24.0])\n",
        "\n",
        "# Visualize it\n",
        "plt.scatter(X, y);"
      ],
      "metadata": {
        "colab": {
          "base_uri": "https://localhost:8080/",
          "height": 435
        },
        "id": "DPookMMQm34s",
        "outputId": "dfa9b494-3336-4bf0-8ca7-ccd90ac694f3"
      },
      "execution_count": 5,
      "outputs": [
        {
          "output_type": "display_data",
          "data": {
            "text/plain": [
              "<Figure size 640x480 with 1 Axes>"
            ],
            "image/png": "[encoded data removed]"
          },
          "metadata": {}
        }
      ]
    },
    {
      "cell_type": "code",
      "source": [
        "# Take a single example of X\n",
        "input_shape = X[0].shape\n",
        "\n",
        "# Take a single example of y\n",
        "output_shape = y[0].shape\n",
        "\n",
        "input_shape, output_shape # these are both scalars (no shape)"
      ],
      "metadata": {
        "colab": {
          "base_uri": "https://localhost:8080/"
        },
        "id": "mG72BlA7nAHQ",
        "outputId": "809fd6bf-a26e-420a-9f8e-c243adc860c3"
      },
      "execution_count": 6,
      "outputs": [
        {
          "output_type": "execute_result",
          "data": {
            "text/plain": [
              "(TensorShape([]), TensorShape([]))"
            ]
          },
          "metadata": {},
          "execution_count": 6
        }
      ]
    },
    {
      "cell_type": "markdown",
      "source": [
        "## Steps in modelling with TensorFlow\n",
        "\n",
        "1. Creating a model - piece together the layers of a neural network yourself (using the Functional or Sequential API) or import a previously built model (known as transfer learning).\n",
        "2. Compiling a model - defining how a models performance should be measured (loss/metrics) as well as defining how it should improve (optimizer).\n",
        "3. Fitting a model - letting the model try to find patterns in the data (how does X get to y)."
      ],
      "metadata": {
        "id": "77hROxuBnhs-"
      }
    },
    {
      "cell_type": "code",
      "source": [
        "# Set random seed\n",
        "tf.random.set_seed(42)\n",
        "\n",
        "# Create a model using the Sequential API\n",
        "model_1 = tf.keras.Sequential([\n",
        "    tf.keras.layers.Dense(1)\n",
        "])\n",
        "\n",
        "# Compiling the model\n",
        "model_1.compile(loss=tf.keras.losses.mae, # mae: mean absolute error\n",
        "                optimizer=tf.keras.optimizers.SGD(), # SGD : stochastic gradient descent\n",
        "                metrics=[\"mae\"])\n",
        "\n",
        "# Fitting the model\n",
        "model_1.fit(tf.expand_dims(X, axis=-1), y, epochs=5)\n"
      ],
      "metadata": {
        "colab": {
          "base_uri": "https://localhost:8080/"
        },
        "id": "3OG-uPnonv4u",
        "outputId": "504ac9a1-30f7-4164-f714-6f91c53c32c5"
      },
      "execution_count": 7,
      "outputs": [
        {
          "output_type": "stream",
          "name": "stdout",
          "text": [
            "Epoch 1/5\n",
            "1/1 [==============================] - 1s 579ms/step - loss: 11.2424 - mae: 11.2424\n",
            "Epoch 2/5\n",
            "1/1 [==============================] - 0s 11ms/step - loss: 11.1099 - mae: 11.1099\n",
            "Epoch 3/5\n",
            "1/1 [==============================] - 0s 29ms/step - loss: 10.9774 - mae: 10.9774\n",
            "Epoch 4/5\n",
            "1/1 [==============================] - 0s 8ms/step - loss: 10.8449 - mae: 10.8449\n",
            "Epoch 5/5\n",
            "1/1 [==============================] - 0s 9ms/step - loss: 10.7124 - mae: 10.7124\n"
          ]
        },
        {
          "output_type": "execute_result",
          "data": {
            "text/plain": [
              "<keras.callbacks.History at 0x7960672aba30>"
            ]
          },
          "metadata": {},
          "execution_count": 7
        }
      ]
    },
    {
      "cell_type": "code",
      "source": [
        "X, y"
      ],
      "metadata": {
        "colab": {
          "base_uri": "https://localhost:8080/"
        },
        "id": "TdocNSeMoBKq",
        "outputId": "04cce339-bfdd-492a-b064-8a90e686d1a1"
      },
      "execution_count": 8,
      "outputs": [
        {
          "output_type": "execute_result",
          "data": {
            "text/plain": [
              "(<tf.Tensor: shape=(8,), dtype=float32, numpy=array([-7., -4., -1.,  2.,  5.,  8., 11., 14.], dtype=float32)>,\n",
              " <tf.Tensor: shape=(8,), dtype=float32, numpy=array([ 3.,  6.,  9., 12., 15., 18., 21., 24.], dtype=float32)>)"
            ]
          },
          "metadata": {},
          "execution_count": 8
        }
      ]
    },
    {
      "cell_type": "code",
      "source": [
        "# predicting with the model\n",
        "model_1.predict([17.])"
      ],
      "metadata": {
        "colab": {
          "base_uri": "https://localhost:8080/"
        },
        "id": "C9MW1WAwp-Gy",
        "outputId": "fe590951-7f7e-4f56-f299-182e334c8b07"
      },
      "execution_count": 9,
      "outputs": [
        {
          "output_type": "stream",
          "name": "stdout",
          "text": [
            "1/1 [==============================] - 0s 92ms/step\n"
          ]
        },
        {
          "output_type": "execute_result",
          "data": {
            "text/plain": [
              "array([[13.990644]], dtype=float32)"
            ]
          },
          "metadata": {},
          "execution_count": 9
        }
      ]
    },
    {
      "cell_type": "code",
      "source": [
        "17 +10\n"
      ],
      "metadata": {
        "colab": {
          "base_uri": "https://localhost:8080/"
        },
        "id": "y3s-ACqSqNRA",
        "outputId": "91db7b21-26bf-4eaf-9bf4-63e44f72c013"
      },
      "execution_count": 10,
      "outputs": [
        {
          "output_type": "execute_result",
          "data": {
            "text/plain": [
              "27"
            ]
          },
          "metadata": {},
          "execution_count": 10
        }
      ]
    },
    {
      "cell_type": "code",
      "source": [
        "X, y"
      ],
      "metadata": {
        "colab": {
          "base_uri": "https://localhost:8080/"
        },
        "id": "Lv_xcw8bvN2p",
        "outputId": "59ffb947-2c27-4705-daed-7209d2462ddd"
      },
      "execution_count": 11,
      "outputs": [
        {
          "output_type": "execute_result",
          "data": {
            "text/plain": [
              "(<tf.Tensor: shape=(8,), dtype=float32, numpy=array([-7., -4., -1.,  2.,  5.,  8., 11., 14.], dtype=float32)>,\n",
              " <tf.Tensor: shape=(8,), dtype=float32, numpy=array([ 3.,  6.,  9., 12., 15., 18., 21., 24.], dtype=float32)>)"
            ]
          },
          "metadata": {},
          "execution_count": 11
        }
      ]
    },
    {
      "cell_type": "code",
      "source": [
        "# build a model with more epochs to increase the accuracy\n",
        "\n",
        "# Set random seed\n",
        "tf.random.set_seed(42)\n",
        "\n",
        "# create a model (same as before)\n",
        "model_2 = tf.keras.Sequential([\n",
        "    tf.keras.layers.Dense(1)\n",
        "])\n",
        "\n",
        "# compile\n",
        "model_2.compile(loss=tf.keras.losses.mae,\n",
        "                optimizer=tf.keras.optimizers.SGD(),\n",
        "                metrics=[\"mae\"])\n",
        "\n",
        "# fit\n",
        "model_2.fit(tf.expand_dims(X, axis=-1), y, epochs=100)\n",
        "\n",
        "\n"
      ],
      "metadata": {
        "colab": {
          "base_uri": "https://localhost:8080/"
        },
        "id": "BU7WuHe6tVll",
        "outputId": "d4411f01-9f4c-4e9a-bd06-bc06ec670d44"
      },
      "execution_count": 12,
      "outputs": [
        {
          "output_type": "stream",
          "name": "stdout",
          "text": [
            "Epoch 1/100\n",
            "1/1 [==============================] - 0s 347ms/step - loss: 14.2494 - mae: 14.2494\n",
            "Epoch 2/100\n",
            "1/1 [==============================] - 0s 12ms/step - loss: 14.1169 - mae: 14.1169\n",
            "Epoch 3/100\n",
            "1/1 [==============================] - 0s 10ms/step - loss: 13.9844 - mae: 13.9844\n",
            "Epoch 4/100\n",
            "1/1 [==============================] - 0s 24ms/step - loss: 13.8519 - mae: 13.8519\n",
            "Epoch 5/100\n",
            "1/1 [==============================] - 0s 11ms/step - loss: 13.7194 - mae: 13.7194\n",
            "Epoch 6/100\n",
            "1/1 [==============================] - 0s 12ms/step - loss: 13.5869 - mae: 13.5869\n",
            "Epoch 7/100\n",
            "1/1 [==============================] - 0s 13ms/step - loss: 13.4544 - mae: 13.4544\n",
            "Epoch 8/100\n",
            "1/1 [==============================] - 0s 11ms/step - loss: 13.3219 - mae: 13.3219\n",
            "Epoch 9/100\n",
            "1/1 [==============================] - 0s 10ms/step - loss: 13.1894 - mae: 13.1894\n",
            "Epoch 10/100\n",
            "1/1 [==============================] - 0s 11ms/step - loss: 13.0569 - mae: 13.0569\n",
            "Epoch 11/100\n",
            "1/1 [==============================] - 0s 10ms/step - loss: 12.9244 - mae: 12.9244\n",
            "Epoch 12/100\n",
            "1/1 [==============================] - 0s 11ms/step - loss: 12.7919 - mae: 12.7919\n",
            "Epoch 13/100\n",
            "1/1 [==============================] - 0s 10ms/step - loss: 12.6594 - mae: 12.6594\n",
            "Epoch 14/100\n",
            "1/1 [==============================] - 0s 10ms/step - loss: 12.5269 - mae: 12.5269\n",
            "Epoch 15/100\n",
            "1/1 [==============================] - 0s 10ms/step - loss: 12.3944 - mae: 12.3944\n",
            "Epoch 16/100\n",
            "1/1 [==============================] - 0s 10ms/step - loss: 12.2619 - mae: 12.2619\n",
            "Epoch 17/100\n",
            "1/1 [==============================] - 0s 11ms/step - loss: 12.1294 - mae: 12.1294\n",
            "Epoch 18/100\n",
            "1/1 [==============================] - 0s 10ms/step - loss: 11.9969 - mae: 11.9969\n",
            "Epoch 19/100\n",
            "1/1 [==============================] - 0s 11ms/step - loss: 11.8644 - mae: 11.8644\n",
            "Epoch 20/100\n",
            "1/1 [==============================] - 0s 10ms/step - loss: 11.7319 - mae: 11.7319\n",
            "Epoch 21/100\n",
            "1/1 [==============================] - 0s 11ms/step - loss: 11.5994 - mae: 11.5994\n",
            "Epoch 22/100\n",
            "1/1 [==============================] - 0s 12ms/step - loss: 11.4669 - mae: 11.4669\n",
            "Epoch 23/100\n",
            "1/1 [==============================] - 0s 11ms/step - loss: 11.3344 - mae: 11.3344\n",
            "Epoch 24/100\n",
            "1/1 [==============================] - 0s 10ms/step - loss: 11.2019 - mae: 11.2019\n",
            "Epoch 25/100\n",
            "1/1 [==============================] - 0s 11ms/step - loss: 11.0694 - mae: 11.0694\n",
            "Epoch 26/100\n",
            "1/1 [==============================] - 0s 10ms/step - loss: 10.9369 - mae: 10.9369\n",
            "Epoch 27/100\n",
            "1/1 [==============================] - 0s 11ms/step - loss: 10.8044 - mae: 10.8044\n",
            "Epoch 28/100\n",
            "1/1 [==============================] - 0s 9ms/step - loss: 10.6719 - mae: 10.6719\n",
            "Epoch 29/100\n",
            "1/1 [==============================] - 0s 11ms/step - loss: 10.5394 - mae: 10.5394\n",
            "Epoch 30/100\n",
            "1/1 [==============================] - 0s 10ms/step - loss: 10.4069 - mae: 10.4069\n",
            "Epoch 31/100\n",
            "1/1 [==============================] - 0s 22ms/step - loss: 10.2744 - mae: 10.2744\n",
            "Epoch 32/100\n",
            "1/1 [==============================] - 0s 21ms/step - loss: 10.1419 - mae: 10.1419\n",
            "Epoch 33/100\n",
            "1/1 [==============================] - 0s 9ms/step - loss: 10.0094 - mae: 10.0094\n",
            "Epoch 34/100\n",
            "1/1 [==============================] - 0s 18ms/step - loss: 9.8769 - mae: 9.8769\n",
            "Epoch 35/100\n",
            "1/1 [==============================] - 0s 23ms/step - loss: 9.7444 - mae: 9.7444\n",
            "Epoch 36/100\n",
            "1/1 [==============================] - 0s 28ms/step - loss: 9.6119 - mae: 9.6119\n",
            "Epoch 37/100\n",
            "1/1 [==============================] - 0s 14ms/step - loss: 9.4794 - mae: 9.4794\n",
            "Epoch 38/100\n",
            "1/1 [==============================] - 0s 19ms/step - loss: 9.3469 - mae: 9.3469\n",
            "Epoch 39/100\n",
            "1/1 [==============================] - 0s 24ms/step - loss: 9.2144 - mae: 9.2144\n",
            "Epoch 40/100\n",
            "1/1 [==============================] - 0s 18ms/step - loss: 9.0819 - mae: 9.0819\n",
            "Epoch 41/100\n",
            "1/1 [==============================] - 0s 16ms/step - loss: 8.9494 - mae: 8.9494\n",
            "Epoch 42/100\n",
            "1/1 [==============================] - 0s 12ms/step - loss: 8.8169 - mae: 8.8169\n",
            "Epoch 43/100\n",
            "1/1 [==============================] - 0s 23ms/step - loss: 8.6844 - mae: 8.6844\n",
            "Epoch 44/100\n",
            "1/1 [==============================] - 0s 13ms/step - loss: 8.5519 - mae: 8.5519\n",
            "Epoch 45/100\n",
            "1/1 [==============================] - 0s 16ms/step - loss: 8.4194 - mae: 8.4194\n",
            "Epoch 46/100\n",
            "1/1 [==============================] - 0s 17ms/step - loss: 8.2869 - mae: 8.2869\n",
            "Epoch 47/100\n",
            "1/1 [==============================] - 0s 21ms/step - loss: 8.1544 - mae: 8.1544\n",
            "Epoch 48/100\n",
            "1/1 [==============================] - 0s 24ms/step - loss: 8.0219 - mae: 8.0219\n",
            "Epoch 49/100\n",
            "1/1 [==============================] - 0s 14ms/step - loss: 7.8894 - mae: 7.8894\n",
            "Epoch 50/100\n",
            "1/1 [==============================] - 0s 24ms/step - loss: 7.7569 - mae: 7.7569\n",
            "Epoch 51/100\n",
            "1/1 [==============================] - 0s 15ms/step - loss: 7.6244 - mae: 7.6244\n",
            "Epoch 52/100\n",
            "1/1 [==============================] - 0s 15ms/step - loss: 7.4919 - mae: 7.4919\n",
            "Epoch 53/100\n",
            "1/1 [==============================] - 0s 14ms/step - loss: 7.3594 - mae: 7.3594\n",
            "Epoch 54/100\n",
            "1/1 [==============================] - 0s 21ms/step - loss: 7.2269 - mae: 7.2269\n",
            "Epoch 55/100\n",
            "1/1 [==============================] - 0s 17ms/step - loss: 7.0950 - mae: 7.0950\n",
            "Epoch 56/100\n",
            "1/1 [==============================] - 0s 15ms/step - loss: 7.0894 - mae: 7.0894\n",
            "Epoch 57/100\n",
            "1/1 [==============================] - 0s 18ms/step - loss: 7.0838 - mae: 7.0838\n",
            "Epoch 58/100\n",
            "1/1 [==============================] - 0s 16ms/step - loss: 7.0781 - mae: 7.0781\n",
            "Epoch 59/100\n",
            "1/1 [==============================] - 0s 17ms/step - loss: 7.0725 - mae: 7.0725\n",
            "Epoch 60/100\n",
            "1/1 [==============================] - 0s 12ms/step - loss: 7.0669 - mae: 7.0669\n",
            "Epoch 61/100\n",
            "1/1 [==============================] - 0s 14ms/step - loss: 7.0612 - mae: 7.0612\n",
            "Epoch 62/100\n",
            "1/1 [==============================] - 0s 14ms/step - loss: 7.0556 - mae: 7.0556\n",
            "Epoch 63/100\n",
            "1/1 [==============================] - 0s 15ms/step - loss: 7.0500 - mae: 7.0500\n",
            "Epoch 64/100\n",
            "1/1 [==============================] - 0s 15ms/step - loss: 7.0444 - mae: 7.0444\n",
            "Epoch 65/100\n",
            "1/1 [==============================] - 0s 20ms/step - loss: 7.0388 - mae: 7.0388\n",
            "Epoch 66/100\n",
            "1/1 [==============================] - 0s 17ms/step - loss: 7.0331 - mae: 7.0331\n",
            "Epoch 67/100\n",
            "1/1 [==============================] - 0s 13ms/step - loss: 7.0275 - mae: 7.0275\n",
            "Epoch 68/100\n",
            "1/1 [==============================] - 0s 32ms/step - loss: 7.0219 - mae: 7.0219\n",
            "Epoch 69/100\n",
            "1/1 [==============================] - 0s 15ms/step - loss: 7.0163 - mae: 7.0163\n",
            "Epoch 70/100\n",
            "1/1 [==============================] - 0s 15ms/step - loss: 7.0106 - mae: 7.0106\n",
            "Epoch 71/100\n",
            "1/1 [==============================] - 0s 18ms/step - loss: 7.0050 - mae: 7.0050\n",
            "Epoch 72/100\n",
            "1/1 [==============================] - 0s 18ms/step - loss: 6.9994 - mae: 6.9994\n",
            "Epoch 73/100\n",
            "1/1 [==============================] - 0s 14ms/step - loss: 6.9938 - mae: 6.9938\n",
            "Epoch 74/100\n",
            "1/1 [==============================] - 0s 17ms/step - loss: 6.9881 - mae: 6.9881\n",
            "Epoch 75/100\n",
            "1/1 [==============================] - 0s 15ms/step - loss: 6.9825 - mae: 6.9825\n",
            "Epoch 76/100\n",
            "1/1 [==============================] - 0s 20ms/step - loss: 6.9769 - mae: 6.9769\n",
            "Epoch 77/100\n",
            "1/1 [==============================] - 0s 16ms/step - loss: 6.9713 - mae: 6.9713\n",
            "Epoch 78/100\n",
            "1/1 [==============================] - 0s 16ms/step - loss: 6.9656 - mae: 6.9656\n",
            "Epoch 79/100\n",
            "1/1 [==============================] - 0s 15ms/step - loss: 6.9600 - mae: 6.9600\n",
            "Epoch 80/100\n",
            "1/1 [==============================] - 0s 18ms/step - loss: 6.9544 - mae: 6.9544\n",
            "Epoch 81/100\n",
            "1/1 [==============================] - 0s 15ms/step - loss: 6.9487 - mae: 6.9487\n",
            "Epoch 82/100\n",
            "1/1 [==============================] - 0s 11ms/step - loss: 6.9431 - mae: 6.9431\n",
            "Epoch 83/100\n",
            "1/1 [==============================] - 0s 15ms/step - loss: 6.9375 - mae: 6.9375\n",
            "Epoch 84/100\n",
            "1/1 [==============================] - 0s 11ms/step - loss: 6.9319 - mae: 6.9319\n",
            "Epoch 85/100\n",
            "1/1 [==============================] - 0s 14ms/step - loss: 6.9263 - mae: 6.9263\n",
            "Epoch 86/100\n",
            "1/1 [==============================] - 0s 38ms/step - loss: 6.9206 - mae: 6.9206\n",
            "Epoch 87/100\n",
            "1/1 [==============================] - 0s 21ms/step - loss: 6.9150 - mae: 6.9150\n",
            "Epoch 88/100\n",
            "1/1 [==============================] - 0s 17ms/step - loss: 6.9094 - mae: 6.9094\n",
            "Epoch 89/100\n",
            "1/1 [==============================] - 0s 18ms/step - loss: 6.9038 - mae: 6.9038\n",
            "Epoch 90/100\n",
            "1/1 [==============================] - 0s 16ms/step - loss: 6.8981 - mae: 6.8981\n",
            "Epoch 91/100\n",
            "1/1 [==============================] - 0s 15ms/step - loss: 6.8925 - mae: 6.8925\n",
            "Epoch 92/100\n",
            "1/1 [==============================] - 0s 33ms/step - loss: 6.8869 - mae: 6.8869\n",
            "Epoch 93/100\n",
            "1/1 [==============================] - 0s 11ms/step - loss: 6.8813 - mae: 6.8813\n",
            "Epoch 94/100\n",
            "1/1 [==============================] - 0s 27ms/step - loss: 6.8756 - mae: 6.8756\n",
            "Epoch 95/100\n",
            "1/1 [==============================] - 0s 16ms/step - loss: 6.8700 - mae: 6.8700\n",
            "Epoch 96/100\n",
            "1/1 [==============================] - 0s 15ms/step - loss: 6.8644 - mae: 6.8644\n",
            "Epoch 97/100\n",
            "1/1 [==============================] - 0s 15ms/step - loss: 6.8588 - mae: 6.8588\n",
            "Epoch 98/100\n",
            "1/1 [==============================] - 0s 14ms/step - loss: 6.8531 - mae: 6.8531\n",
            "Epoch 99/100\n",
            "1/1 [==============================] - 0s 12ms/step - loss: 6.8475 - mae: 6.8475\n",
            "Epoch 100/100\n",
            "1/1 [==============================] - 0s 22ms/step - loss: 6.8419 - mae: 6.8419\n"
          ]
        },
        {
          "output_type": "execute_result",
          "data": {
            "text/plain": [
              "<keras.callbacks.History at 0x79605763f430>"
            ]
          },
          "metadata": {},
          "execution_count": 12
        }
      ]
    },
    {
      "cell_type": "code",
      "source": [
        "model_2.predict([17])"
      ],
      "metadata": {
        "colab": {
          "base_uri": "https://localhost:8080/"
        },
        "id": "66WebfUsvFAV",
        "outputId": "b8b6e00d-e50a-4a36-eaed-6b74d7a3d739"
      },
      "execution_count": 13,
      "outputs": [
        {
          "output_type": "stream",
          "name": "stdout",
          "text": [
            "1/1 [==============================] - 0s 135ms/step\n"
          ]
        },
        {
          "output_type": "execute_result",
          "data": {
            "text/plain": [
              "array([[29.375242]], dtype=float32)"
            ]
          },
          "metadata": {},
          "execution_count": 13
        }
      ]
    },
    {
      "cell_type": "code",
      "source": [
        "# Lets create bigger dataset\n",
        "X = np.arange(-100, 100, 4)\n",
        "X"
      ],
      "metadata": {
        "colab": {
          "base_uri": "https://localhost:8080/"
        },
        "id": "kZS_rKBwvvZt",
        "outputId": "34719f0f-156c-4343-b7d5-e728fa8f247f"
      },
      "execution_count": 14,
      "outputs": [
        {
          "output_type": "execute_result",
          "data": {
            "text/plain": [
              "array([-100,  -96,  -92,  -88,  -84,  -80,  -76,  -72,  -68,  -64,  -60,\n",
              "        -56,  -52,  -48,  -44,  -40,  -36,  -32,  -28,  -24,  -20,  -16,\n",
              "        -12,   -8,   -4,    0,    4,    8,   12,   16,   20,   24,   28,\n",
              "         32,   36,   40,   44,   48,   52,   56,   60,   64,   68,   72,\n",
              "         76,   80,   84,   88,   92,   96])"
            ]
          },
          "metadata": {},
          "execution_count": 14
        }
      ]
    },
    {
      "cell_type": "code",
      "source": [
        "# labels\n",
        "y = np.arange(-90, 110, 4)\n",
        "y"
      ],
      "metadata": {
        "colab": {
          "base_uri": "https://localhost:8080/"
        },
        "id": "BBrQp3CPwa03",
        "outputId": "f2dc3301-4fe9-49e0-fea3-5ec123d3f74b"
      },
      "execution_count": 15,
      "outputs": [
        {
          "output_type": "execute_result",
          "data": {
            "text/plain": [
              "array([-90, -86, -82, -78, -74, -70, -66, -62, -58, -54, -50, -46, -42,\n",
              "       -38, -34, -30, -26, -22, -18, -14, -10,  -6,  -2,   2,   6,  10,\n",
              "        14,  18,  22,  26,  30,  34,  38,  42,  46,  50,  54,  58,  62,\n",
              "        66,  70,  74,  78,  82,  86,  90,  94,  98, 102, 106])"
            ]
          },
          "metadata": {},
          "execution_count": 15
        }
      ]
    },
    {
      "cell_type": "markdown",
      "source": [
        "## Split data into training/test set\n",
        "\n",
        "* Training set - the model learns from this data, which is typically 70-80% of the total data available (like the course materials you study during the semester).\n",
        "* Validation set - the model gets tuned on this data, which is typically 10-15% of the total data available (like the practice exam you take before the final exam).\n",
        "* Test set - the model gets evaluated on this data to test what it has learned, it's typically 10-15% of the total data available (like the final exam you take at the end of the semester)."
      ],
      "metadata": {
        "id": "oGOXaPIzwqTD"
      }
    },
    {
      "cell_type": "code",
      "source": [
        "len(X)"
      ],
      "metadata": {
        "colab": {
          "base_uri": "https://localhost:8080/"
        },
        "id": "KH25Im-Iwu1v",
        "outputId": "8ba42e43-6557-4e66-86d3-dd8268326c90"
      },
      "execution_count": 16,
      "outputs": [
        {
          "output_type": "execute_result",
          "data": {
            "text/plain": [
              "50"
            ]
          },
          "metadata": {},
          "execution_count": 16
        }
      ]
    },
    {
      "cell_type": "code",
      "source": [
        "# Split data into train and test sets\n",
        "X_train = X[:40] # 80%\n",
        "y_train = y[:40]\n",
        "\n",
        "X_test = X[40:]\n",
        "y_test = y[40:]\n",
        "\n",
        "len(X_train), len(X_test)"
      ],
      "metadata": {
        "colab": {
          "base_uri": "https://localhost:8080/"
        },
        "id": "vom3ylfDxD1Y",
        "outputId": "5bdda7b4-2b4e-48b9-909e-271e2d07bc3a"
      },
      "execution_count": 17,
      "outputs": [
        {
          "output_type": "execute_result",
          "data": {
            "text/plain": [
              "(40, 10)"
            ]
          },
          "metadata": {},
          "execution_count": 17
        }
      ]
    },
    {
      "cell_type": "markdown",
      "source": [
        "## Visualizing the data"
      ],
      "metadata": {
        "id": "BjftXIT3xRrf"
      }
    },
    {
      "cell_type": "code",
      "source": [
        "plt.figure(figsize=(8, 5))\n",
        "# Plot training data in blue\n",
        "plt.scatter(X_train, y_train, c='b', label='Training data')\n",
        "# Plot test data in green\n",
        "plt.scatter(X_test, y_test, c='g', label='Testing data')\n",
        "# Show the legend\n",
        "plt.legend();"
      ],
      "metadata": {
        "colab": {
          "base_uri": "https://localhost:8080/",
          "height": 445
        },
        "id": "lWvTKvvEx6_G",
        "outputId": "f597575a-6235-4d17-8f0a-8cd41d1c3ca5"
      },
      "execution_count": 18,
      "outputs": [
        {
          "output_type": "display_data",
          "data": {
            "text/plain": [
              "<Figure size 800x500 with 1 Axes>"
            ],
            "image/png": "[encoded data removed]"
          },
          "metadata": {}
        }
      ]
    },
    {
      "cell_type": "code",
      "source": [
        "# set random seed\n",
        "tf.random.set_seed(42)\n",
        "\n",
        "# create the model\n",
        "model_3 = tf.keras.Sequential([\n",
        "    tf.keras.layers.Dense(1)\n",
        "])\n",
        "\n",
        "# compile the model\n",
        "model_3.compile(loss=tf.keras.losses.mae,\n",
        "                optimizer=tf.keras.optimizers.SGD(),\n",
        "                metrics=[\"mae\"])\n",
        "\n",
        "#fit the model\n",
        "model_3.fit(tf.expand_dims(X_train, axis=-1), y_train, epochs=5)\n",
        "# model_3.fit(X_train, y_train, epochs=5)"
      ],
      "metadata": {
        "id": "OJyCgY4Yx9bf",
        "colab": {
          "base_uri": "https://localhost:8080/"
        },
        "outputId": "632bc64f-29a2-4c78-ccd4-1afc470e0fd1"
      },
      "execution_count": 19,
      "outputs": [
        {
          "output_type": "stream",
          "name": "stdout",
          "text": [
            "Epoch 1/5\n",
            "2/2 [==============================] - 1s 14ms/step - loss: 78.3351 - mae: 78.3351\n",
            "Epoch 2/5\n",
            "2/2 [==============================] - 0s 16ms/step - loss: 42.9709 - mae: 42.9709\n",
            "Epoch 3/5\n",
            "2/2 [==============================] - 0s 24ms/step - loss: 10.6084 - mae: 10.6084\n",
            "Epoch 4/5\n",
            "2/2 [==============================] - 0s 23ms/step - loss: 9.6371 - mae: 9.6371\n",
            "Epoch 5/5\n",
            "2/2 [==============================] - 0s 13ms/step - loss: 10.5529 - mae: 10.5529\n"
          ]
        },
        {
          "output_type": "execute_result",
          "data": {
            "text/plain": [
              "<keras.callbacks.History at 0x796055dba050>"
            ]
          },
          "metadata": {},
          "execution_count": 19
        }
      ]
    },
    {
      "cell_type": "code",
      "source": [
        "model_3.summary()"
      ],
      "metadata": {
        "colab": {
          "base_uri": "https://localhost:8080/"
        },
        "id": "1VGDca6N_pRB",
        "outputId": "1d36b15a-f534-478b-8223-70eab89ab0d4"
      },
      "execution_count": 20,
      "outputs": [
        {
          "output_type": "stream",
          "name": "stdout",
          "text": [
            "Model: \"sequential_2\"\n",
            "_________________________________________________________________\n",
            " Layer (type)                Output Shape              Param #   \n",
            "=================================================================\n",
            " dense_2 (Dense)             (None, 1)                 2         \n",
            "                                                                 \n",
            "=================================================================\n",
            "Total params: 2\n",
            "Trainable params: 2\n",
            "Non-trainable params: 0\n",
            "_________________________________________________________________\n"
          ]
        }
      ]
    },
    {
      "cell_type": "code",
      "source": [
        "model_3.predict([96])"
      ],
      "metadata": {
        "colab": {
          "base_uri": "https://localhost:8080/"
        },
        "id": "VKjjDWlG_3E1",
        "outputId": "1af06fab-14e2-499c-ca63-783e35c0f1dd"
      },
      "execution_count": 21,
      "outputs": [
        {
          "output_type": "stream",
          "name": "stdout",
          "text": [
            "1/1 [==============================] - 0s 312ms/step\n"
          ]
        },
        {
          "output_type": "execute_result",
          "data": {
            "text/plain": [
              "array([[97.13637]], dtype=float32)"
            ]
          },
          "metadata": {},
          "execution_count": 21
        }
      ]
    },
    {
      "cell_type": "code",
      "source": [
        "from tensorflow.keras.utils import plot_model\n",
        "\n",
        "plot_model(model_3, show_shapes=True)"
      ],
      "metadata": {
        "id": "Wnd7XLtF__EQ",
        "colab": {
          "base_uri": "https://localhost:8080/",
          "height": 201
        },
        "outputId": "18c8fc67-dd2a-41ff-b784-aba8b95e5ddb"
      },
      "execution_count": 23,
      "outputs": [
        {
          "output_type": "execute_result",
          "data": {
            "image/png": "[encoded data removed]",
            "text/plain": [
              "<IPython.core.display.Image object>"
            ]
          },
          "metadata": {},
          "execution_count": 23
        }
      ]
    },
    {
      "cell_type": "markdown",
      "source": [
        "## Visualizing the predictions\n",
        "\n",
        " we'll make some predictions on the test data (X_test), remember the model has never seen the test data.\n",
        "\n"
      ],
      "metadata": {
        "id": "IEjMNrv1zyyT"
      }
    },
    {
      "cell_type": "code",
      "source": [
        "# Make predictions\n",
        "y_preds = model_3.predict(X_test)"
      ],
      "metadata": {
        "colab": {
          "base_uri": "https://localhost:8080/"
        },
        "id": "oatTlYOsz6zp",
        "outputId": "ff6672fb-7500-4289-8194-ed5df6389c2a"
      },
      "execution_count": 24,
      "outputs": [
        {
          "output_type": "stream",
          "name": "stdout",
          "text": [
            "1/1 [==============================] - 0s 35ms/step\n"
          ]
        }
      ]
    },
    {
      "cell_type": "code",
      "source": [
        "y_preds"
      ],
      "metadata": {
        "colab": {
          "base_uri": "https://localhost:8080/"
        },
        "id": "mBM7KBMu0JMb",
        "outputId": "0970a30e-913f-4732-8711-a2a1a8c4f0dd"
      },
      "execution_count": 25,
      "outputs": [
        {
          "output_type": "execute_result",
          "data": {
            "text/plain": [
              "array([[60.722183],\n",
              "       [64.7682  ],\n",
              "       [68.814224],\n",
              "       [72.860245],\n",
              "       [76.906265],\n",
              "       [80.952286],\n",
              "       [84.99831 ],\n",
              "       [89.04433 ],\n",
              "       [93.09035 ],\n",
              "       [97.13637 ]], dtype=float32)"
            ]
          },
          "metadata": {},
          "execution_count": 25
        }
      ]
    },
    {
      "cell_type": "markdown",
      "source": [
        "we get a list of numbers but how do these compare to the ground truth labels?\n",
        "\n",
        "Let's build a plotting function to find out."
      ],
      "metadata": {
        "id": "w8roYVg60OCJ"
      }
    },
    {
      "cell_type": "code",
      "source": [
        "def plot_predictions(train_data = X_train,\n",
        "                     train_labels = y_train,\n",
        "                     test_data = X_test,\n",
        "                     test_labels = y_test,\n",
        "                     predictions = y_preds):\n",
        "  \"\"\"\n",
        "  Plots training data, test data and predictions\n",
        "  \"\"\"\n",
        "  plt.figure(figsize=(8,5))\n",
        "  #Plot training data in blue\n",
        "  plt.scatter(train_data, train_labels, c=\"b\", label = \"Training data\")\n",
        "  #Plot testing data in green\n",
        "  plt.scatter(test_data, test_labels, c=\"g\", label = \"Testing data\")\n",
        "  # Plot predictions in red\n",
        "  plt.scatter(test_data, predictions , c=\"r\", label = \"Predictions \")\n",
        "  # Show the legend\n",
        "  plt.legend();\n",
        ""
      ],
      "metadata": {
        "id": "9wTpHN7b0WDS"
      },
      "execution_count": 26,
      "outputs": []
    },
    {
      "cell_type": "code",
      "source": [
        "plot_predictions(train_data = X_train,\n",
        "                  train_labels = y_train,\n",
        "                  test_data = X_test,\n",
        "                  test_labels = y_test,\n",
        "                  predictions = y_preds)\n"
      ],
      "metadata": {
        "colab": {
          "base_uri": "https://localhost:8080/",
          "height": 445
        },
        "id": "PepiQJzB14vs",
        "outputId": "51f59f81-c3f1-4a2c-d6cf-234033dfc585"
      },
      "execution_count": 27,
      "outputs": [
        {
          "output_type": "display_data",
          "data": {
            "text/plain": [
              "<Figure size 800x500 with 1 Axes>"
            ],
            "image/png": "[encoded data removed]"
          },
          "metadata": {}
        }
      ]
    },
    {
      "cell_type": "markdown",
      "source": [
        "\n",
        "## Evaluating predictions\n",
        "\n",
        "We can also use model.evaluate() which will return the loss of the model as well as any metrics setup during the compile step.\n",
        "\n",
        "* Mean absolute error (MAE) - the mean difference between each of the predictions.\n"
      ],
      "metadata": {
        "id": "IwZz4c8D2H8N"
      }
    },
    {
      "cell_type": "code",
      "source": [
        "# Evaluate the model\n",
        "model_3.evaluate(X_test, y_test)"
      ],
      "metadata": {
        "colab": {
          "base_uri": "https://localhost:8080/"
        },
        "id": "IeuJ_Wha2PT4",
        "outputId": "6e14ea74-b2d1-4f30-af9f-fac5a36b3816"
      },
      "execution_count": 28,
      "outputs": [
        {
          "output_type": "stream",
          "name": "stdout",
          "text": [
            "1/1 [==============================] - 0s 246ms/step - loss: 9.0707 - mae: 9.0707\n"
          ]
        },
        {
          "output_type": "execute_result",
          "data": {
            "text/plain": [
              "[9.070724487304688, 9.070724487304688]"
            ]
          },
          "metadata": {},
          "execution_count": 28
        }
      ]
    },
    {
      "cell_type": "code",
      "source": [
        "# calculating the mae\n",
        "mae = tf.metrics.mean_absolute_error(y_true = y_test,\n",
        "                                     y_pred= y_preds)\n",
        "mae"
      ],
      "metadata": {
        "colab": {
          "base_uri": "https://localhost:8080/"
        },
        "id": "PhAgncUS2fzs",
        "outputId": "c5cc6479-4f1f-4f0a-dead-7106ce532b6b"
      },
      "execution_count": 29,
      "outputs": [
        {
          "output_type": "execute_result",
          "data": {
            "text/plain": [
              "<tf.Tensor: shape=(10,), dtype=float32, numpy=\n",
              "array([27.277817, 23.231796, 19.185776, 15.711804, 13.056241, 11.219086,\n",
              "       10.200338, 10.      , 10.61807 , 12.054547], dtype=float32)>"
            ]
          },
          "metadata": {},
          "execution_count": 29
        }
      ]
    },
    {
      "cell_type": "markdown",
      "source": [
        "We should have gotten a single output but not here\n"
      ],
      "metadata": {
        "id": "OydtztLv3P-J"
      }
    },
    {
      "cell_type": "code",
      "source": [
        "# lets check the shape of y_test and y_preds\n",
        "y_test.shape, y_preds.shape"
      ],
      "metadata": {
        "colab": {
          "base_uri": "https://localhost:8080/"
        },
        "id": "tzkS3qKe3ef_",
        "outputId": "403ba6b5-bef3-4f83-a7e3-4c6cde87fc40"
      },
      "execution_count": 30,
      "outputs": [
        {
          "output_type": "execute_result",
          "data": {
            "text/plain": [
              "((10,), (10, 1))"
            ]
          },
          "metadata": {},
          "execution_count": 30
        }
      ]
    },
    {
      "cell_type": "markdown",
      "source": [
        "Both are not equal\n",
        "\n",
        "Lets try using squeeze() to remove 1 dimension from y_preds"
      ],
      "metadata": {
        "id": "9V4An5jc3mTZ"
      }
    },
    {
      "cell_type": "code",
      "source": [
        "# shape before squeeze\n",
        "y_preds.shape"
      ],
      "metadata": {
        "colab": {
          "base_uri": "https://localhost:8080/"
        },
        "id": "7Dhj7oR03qSp",
        "outputId": "d135e664-848e-4bec-d0c7-947d9273ef76"
      },
      "execution_count": 31,
      "outputs": [
        {
          "output_type": "execute_result",
          "data": {
            "text/plain": [
              "(10, 1)"
            ]
          },
          "metadata": {},
          "execution_count": 31
        }
      ]
    },
    {
      "cell_type": "code",
      "source": [
        "# shape after squeeze\n",
        "y_preds.squeeze().shape"
      ],
      "metadata": {
        "colab": {
          "base_uri": "https://localhost:8080/"
        },
        "id": "TNqN53wn4AsD",
        "outputId": "1d360db6-31b5-43d0-a4c4-771488159261"
      },
      "execution_count": 33,
      "outputs": [
        {
          "output_type": "execute_result",
          "data": {
            "text/plain": [
              "(10,)"
            ]
          },
          "metadata": {},
          "execution_count": 33
        }
      ]
    },
    {
      "cell_type": "code",
      "source": [
        "# Calcuate the  mae\n",
        "mae = tf.metrics.mean_absolute_error(y_true = y_test,\n",
        "                                     y_pred = y_preds.squeeze())\n",
        "mae"
      ],
      "metadata": {
        "colab": {
          "base_uri": "https://localhost:8080/"
        },
        "id": "3B5PFBCV4EVT",
        "outputId": "61f74af3-b237-4f21-8617-fd81a6bed86b"
      },
      "execution_count": 36,
      "outputs": [
        {
          "output_type": "execute_result",
          "data": {
            "text/plain": [
              "<tf.Tensor: shape=(), dtype=float32, numpy=9.0707245>"
            ]
          },
          "metadata": {},
          "execution_count": 36
        }
      ]
    },
    {
      "cell_type": "code",
      "source": [
        "# calculate the mse (mean square error)\n",
        "mse = tf.metrics.mean_squared_error(y_true= y_test,\n",
        "                                    y_pred = y_preds.squeeze())\n",
        "mse"
      ],
      "metadata": {
        "colab": {
          "base_uri": "https://localhost:8080/"
        },
        "id": "KhP0Pddv4dsc",
        "outputId": "f75ef67e-76d9-4fc9-f87c-8299c37b5a85"
      },
      "execution_count": 37,
      "outputs": [
        {
          "output_type": "execute_result",
          "data": {
            "text/plain": [
              "<tf.Tensor: shape=(), dtype=float32, numpy=82.29552>"
            ]
          },
          "metadata": {},
          "execution_count": 37
        }
      ]
    },
    {
      "cell_type": "markdown",
      "source": [
        "We can also calculate the MAE using pure TensorFlow functions.\n",
        "\n"
      ],
      "metadata": {
        "id": "iWEUBtxI48Z3"
      }
    },
    {
      "cell_type": "code",
      "source": [
        "# Returns the same as tf.metrics.mean_absolute_error()\n",
        "tf.reduce_mean(tf.abs(y_test-y_preds.squeeze()))\n"
      ],
      "metadata": {
        "colab": {
          "base_uri": "https://localhost:8080/"
        },
        "id": "TK4qYZ9q5BRK",
        "outputId": "ffe08522-2ef2-49b7-fe17-c5a65a842c08"
      },
      "execution_count": 38,
      "outputs": [
        {
          "output_type": "execute_result",
          "data": {
            "text/plain": [
              "<tf.Tensor: shape=(), dtype=float64, numpy=9.070724487304688>"
            ]
          },
          "metadata": {},
          "execution_count": 38
        }
      ]
    },
    {
      "cell_type": "markdown",
      "source": [
        "Again, it's a good idea to functionize anything you think you might use over again (or find yourself using over and over again).\n",
        "\n",
        "Let's make functions for our evaluation metrics."
      ],
      "metadata": {
        "id": "MLzUNFw35Sew"
      }
    },
    {
      "cell_type": "code",
      "source": [
        "def mae(y_test, y_pred):\n",
        "  \"\"\"\n",
        "  Calculuates mean absolute error between y_test and y_preds.\n",
        "  \"\"\"\n",
        "  return tf.metrics.mean_absolute_error(y_test,\n",
        "                                        y_pred)\n",
        "\n",
        "def mse(y_test, y_pred):\n",
        "  \"\"\"\n",
        "  Calculates mean squared error between y_test and y_preds.\n",
        "  \"\"\"\n",
        "  return tf.metrics.mean_squared_error(y_test,\n",
        "                                       y_pred)\n",
        ""
      ],
      "metadata": {
        "id": "kGP9GYaE5U4v"
      },
      "execution_count": 39,
      "outputs": []
    }
  ]
}
